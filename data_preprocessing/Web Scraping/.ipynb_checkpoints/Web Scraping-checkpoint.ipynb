{
 "cells": [
  {
   "cell_type": "markdown",
   "metadata": {},
   "source": [
    "# Web Scraping\n",
    "\n",
    "## What is Web Scraping?\n",
    "\n",
    "**web scraping is the practice of gathering data through any means other than a program interacting with an API (or, obviously, through a human using a web browser)**\n",
    "\n",
    "\n",
    "## Why\n",
    "\n",
    "**web scrapers are excellent at gathering and processing large amounts of\n",
    "data quickly**\n",
    "\n",
    "## WARNING\n",
    "**There are legal issues to consider when scraping a website (robot.txt)**"
   ]
  },
  {
   "cell_type": "code",
   "execution_count": null,
   "metadata": {},
   "outputs": [],
   "source": [
    "from urllib.request import urlopen\n",
    "from bs4 import BeautifulSoup\n",
    "\n",
    "\n",
    "html = urlopen('http://www.pythonscraping.com/pages/page1.html')\n",
    "bs = BeautifulSoup(html.read(), 'html.parser') #/lxml/html5lib\n",
    "print(bs.h1)"
   ]
  },
  {
   "cell_type": "code",
   "execution_count": 20,
   "metadata": {},
   "outputs": [],
   "source": [
    "html_doc = \"\"\"\n",
    "       <html lang=\"en\">\n",
    "        <head>\n",
    "            <meta charset=\"UTF-8\">\n",
    "            <meta name=\"viewport\" content=\"width=device-width, initial-scale=1.0\">\n",
    "            <meta http-equiv=\"X-UA-Compatible\" content=\"ie=edge\">\n",
    "            <title>My Story</title>\n",
    "        </head>\n",
    "        <body>\n",
    "        <h1>The story of my life</h1>\n",
    "        <p class=\"page-1\">\n",
    "            Lorem ipsum dolor sit amet consectetur adipisicing elit. Repudiandae, earum?\n",
    "        </p>\n",
    "        <a class=\"home\" href=\"\">my home</a>\n",
    "        <a class=\"girl\" href=\"\">girlfriend</a>\n",
    "        <a href=\"\">food</a>\n",
    "        <a clas=\"food\" href=\"\">pet</a>\n",
    "        <p class=\"page-2\">Lorem ipsum dolor Dolor, accusantium odio.</p>\n",
    "        </body>\n",
    "        </html>\n",
    "\"\"\""
   ]
  },
  {
   "cell_type": "code",
   "execution_count": 9,
   "metadata": {},
   "outputs": [],
   "source": [
    "from bs4 import BeautifulSoup\n",
    "\n",
    "soup = BeautifulSoup(html_doc, 'lxml')"
   ]
  },
  {
   "cell_type": "code",
   "execution_count": 10,
   "metadata": {},
   "outputs": [
    {
     "data": {
      "text/plain": [
       "<p class=\"page-1\">\n",
       "            Lorem ipsum dolor sit amet consectetur adipisicing elit. Repudiandae, earum?\n",
       "        </p>"
      ]
     },
     "execution_count": 10,
     "metadata": {},
     "output_type": "execute_result"
    }
   ],
   "source": [
    "soup.find('p')"
   ]
  },
  {
   "cell_type": "code",
   "execution_count": 13,
   "metadata": {},
   "outputs": [
    {
     "data": {
      "text/plain": [
       "<p class=\"page-1\">\n",
       "            Lorem ipsum dolor sit amet consectetur adipisicing elit. Repudiandae, earum?\n",
       "        </p>"
      ]
     },
     "execution_count": 13,
     "metadata": {},
     "output_type": "execute_result"
    }
   ],
   "source": [
    "soup.p"
   ]
  },
  {
   "cell_type": "code",
   "execution_count": 14,
   "metadata": {},
   "outputs": [
    {
     "data": {
      "text/plain": [
       "[<a href=\"\">my home</a>,\n",
       " <a href=\"\">girlfriend</a>,\n",
       " <a href=\"\">food</a>,\n",
       " <a href=\"\">pet</a>]"
      ]
     },
     "execution_count": 14,
     "metadata": {},
     "output_type": "execute_result"
    }
   ],
   "source": [
    "soup.findAll('a') # find all items "
   ]
  },
  {
   "cell_type": "code",
   "execution_count": 29,
   "metadata": {},
   "outputs": [
    {
     "name": "stdout",
     "output_type": "stream",
     "text": [
      "[<p class=\"page-1\">\n",
      "            Lorem ipsum dolor sit amet consectetur adipisicing elit. Repudiandae, earum?\n",
      "        </p>]\n"
     ]
    }
   ],
   "source": [
    "# finding a attributes\n",
    "para = soup.find_all('p', class_ = 'page-1')\n",
    "print(para)"
   ]
  },
  {
   "cell_type": "code",
   "execution_count": null,
   "metadata": {},
   "outputs": [],
   "source": [
    "a_tags = soup.find_all('a', class_ = '')"
   ]
  },
  {
   "cell_type": "code",
   "execution_count": null,
   "metadata": {},
   "outputs": [],
   "source": []
  },
  {
   "cell_type": "code",
   "execution_count": null,
   "metadata": {},
   "outputs": [],
   "source": []
  }
 ],
 "metadata": {
  "kernelspec": {
   "display_name": "Python 3",
   "language": "python",
   "name": "python3"
  },
  "language_info": {
   "codemirror_mode": {
    "name": "ipython",
    "version": 3
   },
   "file_extension": ".py",
   "mimetype": "text/x-python",
   "name": "python",
   "nbconvert_exporter": "python",
   "pygments_lexer": "ipython3",
   "version": "3.7.3"
  }
 },
 "nbformat": 4,
 "nbformat_minor": 2
}
