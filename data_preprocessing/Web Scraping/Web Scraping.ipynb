{
 "cells": [
  {
   "cell_type": "markdown",
   "metadata": {},
   "source": [
    "# Web Scraping\n",
    "\n",
    "## What is Web Scraping?\n",
    "\n",
    "**web scraping is the practice of gathering data through any means other than a program interacting with an API (or, obviously, through a human using a web browser)**\n",
    "\n",
    "\n",
    "## Why\n",
    "\n",
    "**web scrapers are excellent at gathering and processing large amounts of\n",
    "data quickly**\n",
    "\n",
    "## WARNING\n",
    "**There are legal issues to consider when scraping a website (robot.txt)**"
   ]
  },
  {
   "cell_type": "code",
   "execution_count": null,
   "metadata": {},
   "outputs": [],
   "source": [
    "from urllib.request import urlopen\n",
    "from bs4 import BeautifulSoup\n",
    "\n",
    "\n",
    "html = urlopen('http://www.pythonscraping.com/pages/page1.html')\n",
    "bs = BeautifulSoup(html.read(), 'html.parser') #/lxml/html5lib\n",
    "print(bs.h1)"
   ]
  },
  {
   "cell_type": "code",
   "execution_count": 1,
   "metadata": {},
   "outputs": [],
   "source": [
    "html_doc = \"\"\"\n",
    "       <html lang=\"en\">\n",
    "        <head>\n",
    "            <meta charset=\"UTF-8\">\n",
    "            <meta name=\"viewport\" content=\"width=device-width, initial-scale=1.0\">\n",
    "            <meta http-equiv=\"X-UA-Compatible\" content=\"ie=edge\">\n",
    "            <title>My Story</title>\n",
    "        </head>\n",
    "        <body>\n",
    "        <h1>The story of my life</h1>\n",
    "        <p class=\"page-1\">\n",
    "            Lorem ipsum dolor sit amet consectetur adipisicing elit. Repudiandae, earum?\n",
    "        </p>\n",
    "        <p class=\"page-1\">\n",
    "            Color sit amet consectetur adipisicing elit. Repudiandae, earum?\n",
    "        </p>\n",
    "        <a class=\"home\" href=\"\">my home</a>\n",
    "        <a class=\"girl\" href=\"\">girlfriend</a>\n",
    "        <a href=\"\">food</a>\n",
    "        <a clas=\"food\" href=\"\">pet</a>\n",
    "        <p class=\"page-2\">Lorem ipsum dolor Dolor, accusantium odio.</p>\n",
    "        </body>\n",
    "        </html>\n",
    "\"\"\""
   ]
  },
  {
   "cell_type": "code",
   "execution_count": 3,
   "metadata": {},
   "outputs": [],
   "source": [
    "from bs4 import BeautifulSoup\n",
    "\n",
    "soup = BeautifulSoup(html_doc, 'lxml')"
   ]
  },
  {
   "cell_type": "code",
   "execution_count": 37,
   "metadata": {},
   "outputs": [
    {
     "data": {
      "text/plain": [
       "<p class=\"page-1\">\n",
       "            Lorem ipsum dolor sit amet consectetur adipisicing elit. Repudiandae, earum?\n",
       "        </p>"
      ]
     },
     "execution_count": 37,
     "metadata": {},
     "output_type": "execute_result"
    }
   ],
   "source": [
    "soup.find('p')"
   ]
  },
  {
   "cell_type": "code",
   "execution_count": 13,
   "metadata": {},
   "outputs": [
    {
     "data": {
      "text/plain": [
       "<p class=\"page-1\">\n",
       "            Lorem ipsum dolor sit amet consectetur adipisicing elit. Repudiandae, earum?\n",
       "        </p>"
      ]
     },
     "execution_count": 13,
     "metadata": {},
     "output_type": "execute_result"
    }
   ],
   "source": [
    "soup.p"
   ]
  },
  {
   "cell_type": "code",
   "execution_count": 38,
   "metadata": {},
   "outputs": [
    {
     "data": {
      "text/plain": [
       "[<a class=\"home\" href=\"\">my home</a>,\n",
       " <a class=\"girl\" href=\"\">girlfriend</a>,\n",
       " <a href=\"\">food</a>,\n",
       " <a clas=\"food\" href=\"\">pet</a>]"
      ]
     },
     "execution_count": 38,
     "metadata": {},
     "output_type": "execute_result"
    }
   ],
   "source": [
    "soup.findAll('a') # find all items "
   ]
  },
  {
   "cell_type": "code",
   "execution_count": 4,
   "metadata": {},
   "outputs": [
    {
     "name": "stdout",
     "output_type": "stream",
     "text": [
      "[<p class=\"page-1\">\n",
      "            Lorem ipsum dolor sit amet consectetur adipisicing elit. Repudiandae, earum?\n",
      "        </p>, <p class=\"page-1\">\n",
      "            Color sit amet consectetur adipisicing elit. Repudiandae, earum?\n",
      "        </p>]\n"
     ]
    }
   ],
   "source": [
    "# finding a attributes\n",
    "para = soup.find_all('p', class_ = 'page-1')\n",
    "print(para)"
   ]
  },
  {
   "cell_type": "code",
   "execution_count": 46,
   "metadata": {},
   "outputs": [
    {
     "name": "stdout",
     "output_type": "stream",
     "text": [
      "<a class=\"girl\" href=\"\">girlfriend</a>\n"
     ]
    }
   ],
   "source": [
    "a_tag = soup.find('a', class_='girl')\n",
    "print(a_tag)"
   ]
  },
  {
   "cell_type": "code",
   "execution_count": null,
   "metadata": {},
   "outputs": [],
   "source": []
  },
  {
   "cell_type": "code",
   "execution_count": 50,
   "metadata": {},
   "outputs": [],
   "source": [
    "# Searching for all tags\n",
    "\n",
    "from bs4 import BeautifulSoup\n",
    "\n",
    "html_doc = \"\"\"\n",
    "<html>\n",
    "\t<head>\n",
    "\t\t<title>The Dormouse's story</title>\n",
    "\t</head>\n",
    "<body>\n",
    "\t<p class=\"title\">\n",
    "\t\t<b>The Dormouse's story</b>\n",
    "\t</p>\n",
    "\t<p class=\"story\">Once upon a time there were three little sisters; and their names were\n",
    "\t<a href=\"http://example.com/elsie\" class=\"sister\" id=\"link1\">Elsie</a>,\n",
    "\t<a href=\"http://example.com/lacie\" class=\"sister\" id=\"link2\">Lacie</a> and\n",
    "\t<a href=\"http://example.com/tillie\" class=\"sister\" id=\"link3\">Tillie</a>;\n",
    "\tand they lived at the bottom of a well.</p>\n",
    "\t<p class=\"story\">...</p>\n",
    "</body>\n",
    "</html>\n",
    "\"\"\"\n",
    "\n",
    "soup = BeautifulSoup(html_doc, 'lxml')\n"
   ]
  },
  {
   "cell_type": "code",
   "execution_count": 51,
   "metadata": {},
   "outputs": [
    {
     "name": "stdout",
     "output_type": "stream",
     "text": [
      "[<a class=\"sister\" href=\"http://example.com/elsie\" id=\"link1\">Elsie</a>, <a class=\"sister\" href=\"http://example.com/lacie\" id=\"link2\">Lacie</a>, <a class=\"sister\" href=\"http://example.com/tillie\" id=\"link3\">Tillie</a>]\n"
     ]
    },
    {
     "data": {
      "text/plain": [
       "3"
      ]
     },
     "execution_count": 51,
     "metadata": {},
     "output_type": "execute_result"
    }
   ],
   "source": [
    "a_tags = soup.find_all('a')\n",
    "\n",
    "print(a_tags)\n",
    "\n",
    "len(a_tags)"
   ]
  },
  {
   "cell_type": "code",
   "execution_count": null,
   "metadata": {},
   "outputs": [],
   "source": []
  },
  {
   "cell_type": "code",
   "execution_count": 52,
   "metadata": {},
   "outputs": [],
   "source": [
    "# Search with tag names and other attributes\n",
    "\n",
    "from bs4 import BeautifulSoup\n",
    "\n",
    "html_doc = \"\"\"\n",
    "<html>\n",
    "\t<head>\n",
    "\t\t<title>The Dormouse's story</title>\n",
    "\t</head>\n",
    "<body>\n",
    "\t<p class=\"title\">\n",
    "\t\t<b>The Dormouse's story</b>\n",
    "\t</p>\n",
    "\t<p class=\"story\">Once upon a time there were three little sisters; and their names were\n",
    "\t<a href=\"http://example.com/elsie\" class=\"sister\" id=\"link1\">Elsie</a>,\n",
    "\t<a href=\"http://example.com/lacie\" class=\"sister\" id=\"link2\">Lacie</a> and\n",
    "\t<a href=\"http://example.com/tillie\" class=\"sister\" id=\"link3\">Tillie</a>;\n",
    "\tand they lived at the bottom of a well.</p>\n",
    "\t<p class=\"story\">...</p>\n",
    "</body>\n",
    "</html>\n",
    "\"\"\"\n",
    "\n"
   ]
  },
  {
   "cell_type": "code",
   "execution_count": 54,
   "metadata": {},
   "outputs": [
    {
     "name": "stdout",
     "output_type": "stream",
     "text": [
      "[<a class=\"sister\" href=\"http://example.com/elsie\" id=\"link1\">Elsie</a>]\n"
     ]
    }
   ],
   "source": [
    "soup = BeautifulSoup(html_doc, 'lxml')\n",
    "\n",
    "a = soup.find_all('a', {'id':'link1'})\n",
    "\n",
    "print(a)"
   ]
  },
  {
   "cell_type": "code",
   "execution_count": null,
   "metadata": {},
   "outputs": [],
   "source": []
  },
  {
   "cell_type": "code",
   "execution_count": 56,
   "metadata": {},
   "outputs": [],
   "source": [
    "# Search with tag name and strings\n",
    "\n",
    "from bs4 import BeautifulSoup\n",
    "\n",
    "html_doc = \"\"\"\n",
    "<html>\n",
    "\t<head>\n",
    "\t\t<title>The Dormouse's story</title>\n",
    "\t</head>\n",
    "<body>\n",
    "\t<p class=\"title\">\n",
    "\t\t<b>The Dormouse's story</b>\n",
    "\t</p>\n",
    "\t<p class=\"story\">Once upon a time there were three little sisters; and their names were\n",
    "\t<a href=\"http://example.com/elsie\" class=\"sister\" id=\"link1\">Elsie</a>,\n",
    "\t<a href=\"http://example.com/lacie\" class=\"sister\" id=\"link2\">Lacie</a> and\n",
    "\t<a href=\"http://example.com/tillie\" class=\"sister\" id=\"link3\">Tillie</a>;\n",
    "\tand they lived at the bottom of a well.</p>\n",
    "\t<p class=\"story\">...</p>\n",
    "</body>\n",
    "</html>\n",
    "\"\"\""
   ]
  },
  {
   "cell_type": "code",
   "execution_count": 57,
   "metadata": {},
   "outputs": [
    {
     "name": "stdout",
     "output_type": "stream",
     "text": [
      "[<a class=\"sister\" href=\"http://example.com/elsie\" id=\"link1\">Elsie</a>]\n"
     ]
    }
   ],
   "source": [
    "soup = BeautifulSoup(html_doc, 'lxml')\n",
    "\n",
    "a_elsie = soup.find_all('a', string = 'Elsie')\n",
    "\n",
    "print(a_elsie)\n"
   ]
  },
  {
   "cell_type": "code",
   "execution_count": null,
   "metadata": {},
   "outputs": [],
   "source": []
  },
  {
   "cell_type": "code",
   "execution_count": null,
   "metadata": {},
   "outputs": [],
   "source": [
    "# DSearch Parent, Child and Siblings\n",
    "\n",
    "from bs4 import BeautifulSoup\n",
    "\n",
    "html_doc = \"\"\"\n",
    "<html>\n",
    "\t<head>\n",
    "\t\t<title>The Dormouse's story</title>\n",
    "\t</head>\n",
    "<body>\n",
    "\n",
    "\t<p class=\"title\">\n",
    "\t\t<b>The Dormouse's story</b>\n",
    "\t</p>\n",
    "\t\n",
    "\t<p class=\"story\">Once upon a time there were three little sisters; and their names were\n",
    "\t\t<a href=\"http://example.com/elsie\" class=\"sister\" id=\"link1\">Elsie</a>,\n",
    "\t\t<a href=\"http://example.com/lacie\" class=\"sister\" id=\"link2\">Lacie</a> and\n",
    "\t\t<a href=\"http://example.com/tillie\" class=\"sister\" id=\"link3\">Tillie</a>;\n",
    "\tand they lived at the bottom of a well.\n",
    "\t</p>\n",
    "\t\n",
    "\t<p class=\"story\">...</p>\n",
    "\n",
    "</body>\n",
    "</html>\n",
    "\"\"\""
   ]
  },
  {
   "cell_type": "code",
   "execution_count": 59,
   "metadata": {},
   "outputs": [
    {
     "name": "stdout",
     "output_type": "stream",
     "text": [
      "[<a class=\"sister\" href=\"http://example.com/elsie\" id=\"link1\">Elsie</a>, <a class=\"sister\" href=\"http://example.com/lacie\" id=\"link2\">Lacie</a>, <a class=\"sister\" href=\"http://example.com/tillie\" id=\"link3\">Tillie</a>]\n"
     ]
    }
   ],
   "source": [
    "soup = BeautifulSoup(html_doc, 'lxml')\n",
    "\n",
    "\n",
    "# search for all child\n",
    "p = soup.find('p', class_ ='story')\n",
    "all_p_children = p.findChildren()\n",
    "print(all_p_children)"
   ]
  },
  {
   "cell_type": "code",
   "execution_count": null,
   "metadata": {},
   "outputs": [],
   "source": []
  },
  {
   "cell_type": "code",
   "execution_count": 60,
   "metadata": {},
   "outputs": [],
   "source": [
    "# Search scope in BeatifulSoup object\n",
    "from bs4 import BeautifulSoup\n",
    "\n",
    "html_doc = \"\"\"\n",
    "<html>\n",
    "\t<head>\n",
    "\t\t<title>The Dormouse's story</title>\n",
    "\t</head>\n",
    "<body>\n",
    "\n",
    "\t<p class=\"title\">\n",
    "\t\t<b>The Dormouse's story</b>\n",
    "\t</p>\n",
    "\t\n",
    "\t<p class=\"story\">Once upon a time there were three little sisters; and their names were\n",
    "\t\t<a href=\"http://example.com/elsie\" class=\"sister\" id=\"link1\">Elsie</a>,\n",
    "\t\t<a href=\"http://example.com/lacie\" class=\"sister\" id=\"link2\">Lacie</a> and\n",
    "\t\t<a href=\"http://example.com/tillie\" class=\"sister\" id=\"link3\">Tillie</a>;\n",
    "\tand they lived at the bottom of a well.\n",
    "\t</p>\n",
    "\t\n",
    "\t<p class=\"story\">...</p>\n",
    "\n",
    "</body>\n",
    "</html>\n",
    "\"\"\"\n"
   ]
  },
  {
   "cell_type": "code",
   "execution_count": 62,
   "metadata": {},
   "outputs": [
    {
     "name": "stdout",
     "output_type": "stream",
     "text": [
      "None\n",
      "<b>The Dormouse's story</b>\n"
     ]
    }
   ],
   "source": [
    "soup = BeautifulSoup(html_doc, 'lxml')\n",
    "\n",
    "first_p = soup.find('p')\n",
    "\n",
    "print(first_p.find('a'))\n",
    "\n",
    "print(first_p.find('b'))\n"
   ]
  },
  {
   "cell_type": "code",
   "execution_count": null,
   "metadata": {},
   "outputs": [],
   "source": []
  },
  {
   "cell_type": "code",
   "execution_count": 63,
   "metadata": {},
   "outputs": [
    {
     "name": "stdout",
     "output_type": "stream",
     "text": [
      "\n",
      "The Dormouse's story\n",
      "\n",
      "Elsie\n"
     ]
    }
   ],
   "source": [
    "# Scraping text content\n",
    "\n",
    "from bs4 import BeautifulSoup\n",
    "\n",
    "html_doc = \"\"\"\n",
    "<html>\n",
    "\t<head>\n",
    "\t\t<title>The Dormouse's story</title>\n",
    "\t</head>\n",
    "<body>\n",
    "\n",
    "\t<p class=\"title\">\n",
    "\t\t<b>The Dormouse's story</b>\n",
    "\t</p>\n",
    "\t\n",
    "\t<p class=\"story\">Once upon a time there were three little sisters; and their names were\n",
    "\t\t<a href=\"http://example.com/elsie\" class=\"sister\" id=\"link1\">Elsie</a>,\n",
    "\t\t<a href=\"http://example.com/lacie\" class=\"sister\" id=\"link2\">Lacie</a> and\n",
    "\t\t<a href=\"http://example.com/tillie\" class=\"sister\" id=\"link3\">Tillie</a>;\n",
    "\tand they lived at the bottom of a well.\n",
    "\t</p>\n",
    "\t\n",
    "\t<p class=\"story\">...</p>\n",
    "\n",
    "</body>\n",
    "</html>\n",
    "\"\"\"\n",
    "\n",
    "soup = BeautifulSoup(html_doc, 'lxml')\n",
    "\n",
    "p = soup.find('p')\n",
    "\n",
    "print(p.text)\n",
    "\n",
    "a =(soup.find('a'))\n",
    "\n",
    "print(a.text)\n"
   ]
  },
  {
   "cell_type": "code",
   "execution_count": null,
   "metadata": {},
   "outputs": [],
   "source": []
  },
  {
   "cell_type": "code",
   "execution_count": 64,
   "metadata": {},
   "outputs": [
    {
     "name": "stdout",
     "output_type": "stream",
     "text": [
      "http://example.com/elsie\n",
      "http://example.com/lacie\n",
      "http://example.com/tillie\n"
     ]
    }
   ],
   "source": [
    "# Scrape for links\n",
    "from bs4 import BeautifulSoup\n",
    "\n",
    "html_doc = \"\"\"\n",
    "<html>\n",
    "\t<head>\n",
    "\t\t<title>The Dormouse's story</title>\n",
    "\t</head>\n",
    "<body>\n",
    "\n",
    "\t<p class=\"title\">\n",
    "\t\t<b>The Dormouse's story</b>\n",
    "\t</p>\n",
    "\t\n",
    "\t<p class=\"story\">Once upon a time there were three little sisters; and their names were\n",
    "\t\t<a href=\"http://example.com/elsie\" class=\"sister\" id=\"link1\">Elsie</a>,\n",
    "\t\t<a href=\"http://example.com/lacie\" class=\"sister\" id=\"link2\">Lacie</a> and\n",
    "\t\t<a href=\"http://example.com/tillie\" class=\"sister\" id=\"link3\">Tillie</a>;\n",
    "\tand they lived at the bottom of a well.\n",
    "\t</p>\n",
    "\t\n",
    "\t<p class=\"story\">...</p>\n",
    "\n",
    "</body>\n",
    "</html>\n",
    "\"\"\"\n",
    "\n",
    "soup = BeautifulSoup(html_doc, 'lxml')\n",
    "\n",
    "a_tags = soup.find_all('a')\n",
    "\n",
    "for a in a_tags:\n",
    "\tprint(a['href'])\n"
   ]
  },
  {
   "cell_type": "code",
   "execution_count": null,
   "metadata": {},
   "outputs": [],
   "source": []
  },
  {
   "cell_type": "code",
   "execution_count": 67,
   "metadata": {},
   "outputs": [
    {
     "name": "stdout",
     "output_type": "stream",
     "text": [
      "Chicken noodle soup\n",
      "120\n",
      "2\n",
      "Caesar salad\n",
      "400\n",
      "26\n"
     ]
    }
   ],
   "source": [
    "# Scrape Data inside Tables\n",
    "\n",
    "from bs4 import BeautifulSoup\n",
    "\n",
    "soup = BeautifulSoup(open('sample.html'), 'lxml')\n",
    "\n",
    "# print soup.prettify()\n",
    "\n",
    "for tr in soup.find_all('tr'):\n",
    "\tfor td in tr.find_all('td'):\n",
    "\t\tprint(td.text)"
   ]
  },
  {
   "cell_type": "code",
   "execution_count": null,
   "metadata": {},
   "outputs": [],
   "source": []
  },
  {
   "cell_type": "markdown",
   "metadata": {},
   "source": [
    "# Project 1 Assigment\n",
    "\n",
    "Scrape [nba.com](https://nba.com)\n",
    "\n",
    "- **Get the list of all players**\n",
    "- **Get the list of all couches**"
   ]
  },
  {
   "cell_type": "code",
   "execution_count": null,
   "metadata": {},
   "outputs": [],
   "source": [
    "from urllib.request import urlopen\n",
    "from bs4 import BeautifulSoup\n",
    "\n",
    "\n",
    "html = urlopen('http://www.nba.com/')\n",
    "soup = BeautifulSoup(html.read(), 'lxml') #/lxml/html5lib\n",
    "print(soup.h1)"
   ]
  },
  {
   "cell_type": "code",
   "execution_count": null,
   "metadata": {},
   "outputs": [],
   "source": [
    "# All players"
   ]
  },
  {
   "cell_type": "code",
   "execution_count": null,
   "metadata": {},
   "outputs": [],
   "source": [
    "# all couches\n",
    "section = soup.find('section',{'id':'nbaArticleContent'})\n",
    "\n",
    "for p in section.find_all('p'):\n",
    "\tfor a in p.find_all('a'):\n",
    "\t\t# print a.text + \"is coach of \" + a.find_previous_sibling().text.replace(':','') + \" team\"\n",
    "\t\tprint(a.text + \" ---> \" + a.find_previous_sibling().text.replace(':',''))\n"
   ]
  }
 ],
 "metadata": {
  "kernelspec": {
   "display_name": "Python 3",
   "language": "python",
   "name": "python3"
  },
  "language_info": {
   "codemirror_mode": {
    "name": "ipython",
    "version": 3
   },
   "file_extension": ".py",
   "mimetype": "text/x-python",
   "name": "python",
   "nbconvert_exporter": "python",
   "pygments_lexer": "ipython3",
   "version": "3.7.3"
  }
 },
 "nbformat": 4,
 "nbformat_minor": 2
}
